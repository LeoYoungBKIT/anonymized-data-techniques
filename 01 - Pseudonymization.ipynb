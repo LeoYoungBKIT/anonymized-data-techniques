{
 "cells": [
  {
   "cell_type": "markdown",
   "metadata": {},
   "source": [
    "### 01. Pseudonymization\n",
    "\n",
    "In this notebook, we'll explore pseudonymization methods such as hashing, masking and homomorphic pseudonymization.\n",
    "\n",
    "For more reading on the topic, please see: \n",
    "\n",
    "- [Medium (Alex Ewerlöf): Anonymization vs. Pseudonymization](https://medium.com/@alexewerlof/gdpr-pseudonymization-techniques-62f7b3b46a56)\n",
    "- [KIProtect: GDPR for Data Science](https://kiprotect.com/blog/gdpr_for_data_science.html)\n",
    "- [IAPP: Anonymization and Pseudonymization Compared in relation to GDPR compliance](https://iapp.org/media/pdf/resource_center/PA_WP2-Anonymous-pseudonymous-comparison.pdf)\n",
    "\n",
    "\n",
    "To test out more [KIProtect](https://kiprotect.com) API calls, please [sign up](https://kiprotect.com/signup.html) on our site."
   ]
  },
  {
   "cell_type": "code",
   "execution_count": null,
   "metadata": {},
   "outputs": [],
   "source": [
    "import base64\n",
    "from hashlib import blake2b\n",
    "\n",
    "import pandas as pd\n",
    "import requests\n",
    "\n",
    "from faker import Faker"
   ]
  },
  {
   "cell_type": "markdown",
   "metadata": {},
   "source": [
    "#### Precheck: What is our data? \n",
    "- What information is contained in our data?\n",
    "- What privacy concerns are there?\n",
    "- How should we proceed?"
   ]
  },
  {
   "cell_type": "code",
   "execution_count": null,
   "metadata": {},
   "outputs": [],
   "source": [
    "df = pd.read_csv('../data/iot_example.csv')"
   ]
  },
  {
   "cell_type": "code",
   "execution_count": null,
   "metadata": {},
   "outputs": [],
   "source": [
    "df.head()"
   ]
  },
  {
   "cell_type": "markdown",
   "metadata": {},
   "source": [
    "#### Section One: Hashing\n",
    "\n",
    "- Applying the blake2b hash\n",
    "- Allowing for de-pseudonymization\n",
    "- Creating a reusable method for hashing"
   ]
  },
  {
   "cell_type": "code",
   "execution_count": null,
   "metadata": {},
   "outputs": [],
   "source": [
    "username = df.iloc[0,1]"
   ]
  },
  {
   "cell_type": "code",
   "execution_count": null,
   "metadata": {},
   "outputs": [],
   "source": [
    "username"
   ]
  },
  {
   "cell_type": "code",
   "execution_count": null,
   "metadata": {},
   "outputs": [],
   "source": [
    "hasher = blake2b()\n",
    "hasher.update(username)\n",
    "hasher.hexdigest()"
   ]
  },
  {
   "cell_type": "markdown",
   "metadata": {},
   "source": [
    "Oops. What went wrong? How can we fix?"
   ]
  },
  {
   "cell_type": "code",
   "execution_count": null,
   "metadata": {},
   "outputs": [],
   "source": []
  },
  {
   "cell_type": "code",
   "execution_count": null,
   "metadata": {},
   "outputs": [],
   "source": [
    "# %load ../solutions/proper_encoding.py\n",
    "\n"
   ]
  },
  {
   "cell_type": "markdown",
   "metadata": {},
   "source": [
    "Great! Now we have a hash. Michael is safe! (or [is he?](https://nakedsecurity.sophos.com/2014/06/24/new-york-city-makes-a-hash-of-taxi-driver-data-disclosure/))\n",
    "\n",
    "But... what if we need to later determine that michaelsmith is a2a858011c091715...."
   ]
  },
  {
   "cell_type": "code",
   "execution_count": null,
   "metadata": {},
   "outputs": [],
   "source": [
    "hasher."
   ]
  },
  {
   "cell_type": "markdown",
   "metadata": {},
   "source": [
    "Okay, let's try something that we can reverse..."
   ]
  },
  {
   "cell_type": "code",
   "execution_count": null,
   "metadata": {},
   "outputs": [],
   "source": [
    "# From https://stackoverflow.com/questions/2490334/simple-way-to-encode-a-string-according-to-a-password\n",
    "\n",
    "def encode(key, clear):\n",
    "    enc = []\n",
    "    for i in range(len(clear)):\n",
    "        key_c = key[i % len(key)]\n",
    "        #print(key_c)\n",
    "        enc_c = (ord(clear[i]) + ord(key_c)) % 256\n",
    "        #print(enc_c)\n",
    "        enc.append(enc_c)\n",
    "    return base64.urlsafe_b64encode(bytes(enc))\n",
    "\n",
    "def decode(key, enc):\n",
    "    dec = []\n",
    "    enc = base64.urlsafe_b64decode(enc)\n",
    "    for i in range(len(enc)):\n",
    "        key_c = key[i % len(key)]\n",
    "        dec_c = chr((256 + enc[i] - ord(key_c)) % 256)\n",
    "        dec.append(dec_c)\n",
    "    return \"\".join(dec)"
   ]
  },
  {
   "cell_type": "code",
   "execution_count": null,
   "metadata": {},
   "outputs": [],
   "source": [
    "encode('supa_secret', username)"
   ]
  },
  {
   "cell_type": "code",
   "execution_count": null,
   "metadata": {},
   "outputs": [],
   "source": [
    "decode('supa_secret', b'4N7TycDY0dbfzujb')"
   ]
  },
  {
   "cell_type": "markdown",
   "metadata": {},
   "source": [
    "#### Challenge\n",
    "\n",
    "- Can you come up with another string which will properly decode the secret which is *not* the same as the original key?\n",
    "- Hint: Take a look at the encode method and use the print statements for a clue."
   ]
  },
  {
   "cell_type": "code",
   "execution_count": null,
   "metadata": {},
   "outputs": [],
   "source": []
  },
  {
   "cell_type": "code",
   "execution_count": null,
   "metadata": {},
   "outputs": [],
   "source": [
    "# %load ../solutions/lockpick.py\n"
   ]
  },
  {
   "cell_type": "markdown",
   "metadata": {},
   "source": [
    "Welp. That maybe is not so great... "
   ]
  },
  {
   "cell_type": "markdown",
   "metadata": {},
   "source": [
    "#### Section Two: Data Masking and Tokenization\n",
    "\n",
    "- What should we mask?\n",
    "- How?\n",
    "- What do we do if we need realistic values?"
   ]
  },
  {
   "cell_type": "code",
   "execution_count": null,
   "metadata": {},
   "outputs": [],
   "source": [
    "df.sample(2)"
   ]
  },
  {
   "cell_type": "code",
   "execution_count": null,
   "metadata": {},
   "outputs": [],
   "source": [
    "super_masked = df.applymap(lambda x: 'NOPE')"
   ]
  },
  {
   "cell_type": "code",
   "execution_count": null,
   "metadata": {},
   "outputs": [],
   "source": [
    "super_masked.head()"
   ]
  },
  {
   "cell_type": "markdown",
   "metadata": {},
   "source": [
    "😜\n",
    "\n",
    "Okay, no more jokes. But masking usually is just that. Replace your senstive data with some sort of represetation.\n",
    "\n",
    "But instead, we could also tokenize the data. This means to replace it with random fictitious data. How do we tokenize this?"
   ]
  },
  {
   "cell_type": "code",
   "execution_count": null,
   "metadata": {},
   "outputs": [],
   "source": [
    "fakes = Faker()"
   ]
  },
  {
   "cell_type": "code",
   "execution_count": null,
   "metadata": {},
   "outputs": [],
   "source": [
    "fakes.name()"
   ]
  },
  {
   "cell_type": "code",
   "execution_count": null,
   "metadata": {},
   "outputs": [],
   "source": [
    "fakes."
   ]
  },
  {
   "cell_type": "code",
   "execution_count": null,
   "metadata": {},
   "outputs": [],
   "source": [
    "fakes.user_name()"
   ]
  },
  {
   "cell_type": "markdown",
   "metadata": {},
   "source": [
    "#### Challenge\n",
    "\n",
    "Make a new column `pseudonym` which masks the data using the faker `user_name` method."
   ]
  },
  {
   "cell_type": "code",
   "execution_count": null,
   "metadata": {},
   "outputs": [],
   "source": []
  },
  {
   "cell_type": "code",
   "execution_count": null,
   "metadata": {},
   "outputs": [],
   "source": [
    "# %load ../solutions/masked_pseudonym.py\n",
    "\n"
   ]
  },
  {
   "cell_type": "markdown",
   "metadata": {},
   "source": [
    "Whaaaa!?!? Pretty cool, eh? \n",
    "\n",
    "(In case you want to read up on [how it works](https://github.com/joke2k/faker/blob/06d323f6cff95103d4ccda03f5d4ab2c45334e46/faker/providers/internet/__init__.py#L162))\n",
    "\n",
    "But.. we can't reverse it. It is tuned per locale (usually using probabilities based on names in locale). That said, works fabulous for test data!"
   ]
  },
  {
   "cell_type": "markdown",
   "metadata": {},
   "source": [
    "#### Step Three: Homomorphic Pseudonymization"
   ]
  },
  {
   "cell_type": "code",
   "execution_count": null,
   "metadata": {},
   "outputs": [],
   "source": [
    "## This key is shared in trust (please do not abuse)!! \n",
    "## We will leave it active for a few days. \n",
    "## However, you can sign up for your own key on our site \n",
    "## https://kiprotect.com\n",
    "\n",
    "SHARED_KEY = '42a2d3fc1cc449e2a27ddd457e056012'"
   ]
  },
  {
   "cell_type": "markdown",
   "metadata": {},
   "source": [
    "##### Finding Nulls\n",
    "\n",
    "We need to create valid JSON, but Pandas and numpy don't make this easy if you have null values. How can we test for nulls?"
   ]
  },
  {
   "cell_type": "code",
   "execution_count": null,
   "metadata": {},
   "outputs": [],
   "source": [
    "df.isnull().any()"
   ]
  },
  {
   "cell_type": "code",
   "execution_count": null,
   "metadata": {},
   "outputs": [],
   "source": [
    "df.note.isnull().sum()"
   ]
  },
  {
   "cell_type": "code",
   "execution_count": null,
   "metadata": {},
   "outputs": [],
   "source": [
    "df.note.isnull().sum() / df.note.count()"
   ]
  },
  {
   "cell_type": "code",
   "execution_count": null,
   "metadata": {},
   "outputs": [],
   "source": [
    "df.note.dtype"
   ]
  },
  {
   "cell_type": "code",
   "execution_count": null,
   "metadata": {},
   "outputs": [],
   "source": [
    "df.note.value_counts()"
   ]
  },
  {
   "cell_type": "code",
   "execution_count": null,
   "metadata": {},
   "outputs": [],
   "source": [
    "jsonable_df = df.fillna('')"
   ]
  },
  {
   "cell_type": "markdown",
   "metadata": {},
   "source": [
    "##### Creating a list of JSON items"
   ]
  },
  {
   "cell_type": "code",
   "execution_count": null,
   "metadata": {},
   "outputs": [],
   "source": [
    "items = jsonable_df.iloc[:10].T.to_dict()"
   ]
  },
  {
   "cell_type": "code",
   "execution_count": null,
   "metadata": {},
   "outputs": [],
   "source": [
    "items"
   ]
  },
  {
   "cell_type": "code",
   "execution_count": null,
   "metadata": {},
   "outputs": [],
   "source": [
    "item_list = list(items.values())"
   ]
  },
  {
   "cell_type": "code",
   "execution_count": null,
   "metadata": {},
   "outputs": [],
   "source": [
    "actions = [\n",
    "    {\n",
    "        \"name\": \"pseudonymize-username\",\n",
    "        \"transform-value\" : {\n",
    "            \"key\": \"username\",\n",
    "            \"pseudonymize\" : {\n",
    "                \"method\": \"merengue\",\n",
    "                \"key\": \"supa_secret\", \n",
    "            }\n",
    "        }\n",
    "    }\n",
    "]"
   ]
  },
  {
   "cell_type": "code",
   "execution_count": null,
   "metadata": {},
   "outputs": [],
   "source": [
    "data = requests.post(\n",
    "    'https://api.kiprotect.com/v1/transform', \n",
    "    data = json.dumps(\n",
    "        {\"actions\": actions, \"items\": item_list}, \n",
    "        allow_nan=False),\n",
    "    headers = {'Authorization': 'Bearer {}'.format(\n",
    "        SHARED_KEY)}\n",
    ")"
   ]
  },
  {
   "cell_type": "code",
   "execution_count": null,
   "metadata": {},
   "outputs": [],
   "source": [
    "data.json()"
   ]
  },
  {
   "cell_type": "code",
   "execution_count": null,
   "metadata": {},
   "outputs": [],
   "source": [
    "depseudonymize_actions = [\n",
    "    {\n",
    "        \"name\": \"encode-username\",\n",
    "        \"transform-value\": {\n",
    "        \"key\": \"username\",\n",
    "        \"decode\": {\n",
    "            \"format\": \"base64\"\n",
    "        }}\n",
    "    },\n",
    "    {\n",
    "        \"name\": \"depseudonymize-username\",\n",
    "        \"transform-value\" : {\n",
    "            \"key\": \"username\",\n",
    "            \"depseudonymize\" : {\n",
    "                \"method\": \"merengue\",\n",
    "                \"key\": \"supa_secret\"\n",
    "            }\n",
    "        }\n",
    "    },\n",
    "    {\n",
    "        \"name\": \"encode-username\",\n",
    "        \"transform-value\": {\n",
    "        \"key\": \"username\",\n",
    "        \"encode\": {\n",
    "            \"format\": \"utf-8\"\n",
    "        }}  \n",
    "    }   \n",
    "]"
   ]
  },
  {
   "cell_type": "code",
   "execution_count": null,
   "metadata": {},
   "outputs": [],
   "source": [
    "depseudonymized_data = requests.post(\n",
    "    'https://api.kiprotect.com/v1/transform', \n",
    "    json = {'actions': depseudonymize_actions, \n",
    "            'items': data.json()['items']},\n",
    "    headers = {'Authorization': 'Bearer {}'.format(\n",
    "        SHARED_KEY)}\n",
    ")"
   ]
  },
  {
   "cell_type": "code",
   "execution_count": null,
   "metadata": {},
   "outputs": [],
   "source": [
    "depseudonymized_data.json()"
   ]
  },
  {
   "cell_type": "markdown",
   "metadata": {},
   "source": [
    "#### Challenge\n",
    "\n",
    "Create a function which takes a dataframe and uses the pseudonymization API to pseudonymize a selected subset of columns.\n",
    "\n",
    "It returns a new dataframe of with pseudonymized data.\n",
    "\n",
    "NOTE: Test using just 1k rows so you don't abuse the server please :)"
   ]
  },
  {
   "cell_type": "code",
   "execution_count": null,
   "metadata": {},
   "outputs": [],
   "source": []
  },
  {
   "cell_type": "code",
   "execution_count": null,
   "metadata": {},
   "outputs": [],
   "source": [
    "# %load ../solutions/pseudonymize_columns.py\n"
   ]
  },
  {
   "cell_type": "code",
   "execution_count": null,
   "metadata": {},
   "outputs": [],
   "source": [
    "ps_df = pseudonymize_columns(jsonable_df[:1000], \n",
    "                             ['username', 'note'])\n",
    "ps_df.head()"
   ]
  },
  {
   "cell_type": "code",
   "execution_count": null,
   "metadata": {},
   "outputs": [],
   "source": []
  }
 ],
 "metadata": {
  "kernelspec": {
   "display_name": "Python 3",
   "language": "python",
   "name": "python3"
  },
  "language_info": {
   "codemirror_mode": {
    "name": "ipython",
    "version": 3
   },
   "file_extension": ".py",
   "mimetype": "text/x-python",
   "name": "python",
   "nbconvert_exporter": "python",
   "pygments_lexer": "ipython3",
   "version": "3.6.5"
  }
 },
 "nbformat": 4,
 "nbformat_minor": 2
}
